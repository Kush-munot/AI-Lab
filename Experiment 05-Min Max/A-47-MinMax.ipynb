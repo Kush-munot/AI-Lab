{
 "cells": [
  {
   "cell_type": "code",
   "execution_count": 7,
   "metadata": {},
   "outputs": [],
   "source": [
    "import math\n",
    "\n",
    "def next_power_of_2(x):\n",
    "    return 1 if x == 0 else math.ceil(math.log2(x))"
   ]
  },
  {
   "cell_type": "code",
   "execution_count": 16,
   "metadata": {},
   "outputs": [
    {
     "name": "stdout",
     "output_type": "stream",
     "text": [
      "The optimal value is : 22\n"
     ]
    }
   ],
   "source": [
    "MAX, MIN = 1000, -1000\n",
    "\n",
    "def minimax(depth, nodeIndex, maximizingPlayer,\n",
    "\t\t\tvalues, alpha, beta, depth_val):\n",
    "\n",
    "\tif depth == depth_val:\n",
    "\t\treturn values[nodeIndex]\n",
    "\n",
    "\tif maximizingPlayer:\n",
    "\t\n",
    "\t\tbest = MIN\n",
    "\n",
    "\t\tfor i in range(0, 2):\t\t\t\n",
    "\t\t\tval = minimax(depth + 1, nodeIndex * 2 + i, False, values, alpha, beta, depth_val)\n",
    "\t\t\tbest = max(best, val)\n",
    "\t\t\talpha = max(alpha, best)\n",
    "\t\t\tif beta <= alpha:\n",
    "\t\t\t\tbreak\n",
    "\t\treturn best\n",
    "\t\n",
    "\telse:\n",
    "\t\tbest = MAX\n",
    "\t\tfor i in range(0, 2):\n",
    "\t\t\n",
    "\t\t\tval = minimax(depth + 1, nodeIndex * 2 + i,\n",
    "\t\t\t\t\t\t\tTrue, values, alpha, beta, depth_val)\n",
    "\t\t\tbest = min(best, val)\n",
    "\t\t\tbeta = min(beta, best)\n",
    "\n",
    "\t\t\tif beta <= alpha:\n",
    "\t\t\t\tbreak\n",
    "\t\t\n",
    "\t\treturn best\n",
    "\t\n",
    "if __name__ == \"__main__\":\n",
    "\n",
    "\tvalues = [1,2,3,4,5,6,7,8,9,10,11,12,13,14,15,16,17,18,19,20,21,22,23,24,25,26,27,28,29]\n",
    "\tdepth_val = next_power_of_2(len(values))\n",
    "\tprint(\"The optimal value is :\", minimax(0, 0, True, values, MIN, MAX,depth_val))"
   ]
  },
  {
   "cell_type": "code",
   "execution_count": null,
   "metadata": {},
   "outputs": [],
   "source": []
  },
  {
   "cell_type": "code",
   "execution_count": null,
   "metadata": {},
   "outputs": [],
   "source": []
  }
 ],
 "metadata": {
  "kernelspec": {
   "display_name": "Python 3",
   "language": "python",
   "name": "python3"
  },
  "language_info": {
   "codemirror_mode": {
    "name": "ipython",
    "version": 3
   },
   "file_extension": ".py",
   "mimetype": "text/x-python",
   "name": "python",
   "nbconvert_exporter": "python",
   "pygments_lexer": "ipython3",
   "version": "3.11.3"
  },
  "orig_nbformat": 4
 },
 "nbformat": 4,
 "nbformat_minor": 2
}
