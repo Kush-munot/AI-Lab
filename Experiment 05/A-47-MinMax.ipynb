{
 "cells": [
  {
   "cell_type": "code",
   "execution_count": 23,
   "metadata": {},
   "outputs": [
    {
     "name": "stdout",
     "output_type": "stream",
     "text": [
      "The optimal value is : 11\n"
     ]
    }
   ],
   "source": [
    "MAX, MIN = 1000, -1000\n",
    "\n",
    "def minimax(depth, nodeIndex, maximizingPlayer,\n",
    "\t\t\tvalues, alpha, beta):\n",
    "\n",
    "\tif depth == 4:\n",
    "\t\treturn values[nodeIndex]\n",
    "\n",
    "\tif maximizingPlayer:\n",
    "\t\n",
    "\t\tbest = MIN\n",
    "\n",
    "\t\tfor i in range(0, 2):\n",
    "\t\t\t\n",
    "\t\t\tval = minimax(depth + 1, nodeIndex * 2 + i,\n",
    "\t\t\t\t\t\tFalse, values, alpha, beta)\n",
    "\t\t\tbest = max(best, val)\n",
    "\t\t\talpha = max(alpha, best)\n",
    "            if beta <= alpha:\n",
    "\t\t\t\tbreak\n",
    "\t\t\n",
    "\t\treturn best\n",
    "\t\n",
    "\telse:\n",
    "\t\tbest = MAX\n",
    "        for i in range(0, 2):\n",
    "\t\t\n",
    "\t\t\tval = minimax(depth + 1, nodeIndex * 2 + i,\n",
    "\t\t\t\t\t\t\tTrue, values, alpha, beta)\n",
    "\t\t\tbest = min(best, val)\n",
    "\t\t\tbeta = min(beta, best)\n",
    "\n",
    "\t\t\t# Alpha Beta Pruning\n",
    "\t\t\tif beta <= alpha:\n",
    "\t\t\t\tbreak\n",
    "\t\t\n",
    "\t\treturn best\n",
    "\t\n",
    "if __name__ == \"__main__\":\n",
    "\n",
    "\tvalues = [1,2,3,4,5,6,7,8,9,10,11,12,13,14]\n",
    "\tprint(\"The optimal value is :\", minimax(0, 0, True, values, MIN, MAX))"
   ]
  }
 ],
 "metadata": {
  "kernelspec": {
   "display_name": "Python 3",
   "language": "python",
   "name": "python3"
  },
  "language_info": {
   "codemirror_mode": {
    "name": "ipython",
    "version": 3
   },
   "file_extension": ".py",
   "mimetype": "text/x-python",
   "name": "python",
   "nbconvert_exporter": "python",
   "pygments_lexer": "ipython3",
   "version": "3.11.2"
  },
  "orig_nbformat": 4
 },
 "nbformat": 4,
 "nbformat_minor": 2
}
