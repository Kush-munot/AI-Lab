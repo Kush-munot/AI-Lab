{
 "cells": [
  {
   "attachments": {},
   "cell_type": "markdown",
   "metadata": {},
   "source": [
    "# BFS in the India Map [A3-A4]"
   ]
  },
  {
   "cell_type": "code",
   "execution_count": 54,
   "metadata": {},
   "outputs": [
    {
     "name": "stdout",
     "output_type": "stream",
     "text": [
      "[[(1, 3), (2, 2), (5, 5), (1, 3), (2, 2), (5, 5)], [(0, 3), (0, 3), (2, 1), (3, 6), (2, 1), (3, 6)], [(0, 2), (1, 1), (0, 2), (1, 1), (3, 3), (4, 4), (3, 3), (4, 4)], [(1, 6), (2, 3), (1, 6), (2, 3), (4, 3), (4, 3)], [(2, 4), (3, 3), (2, 4), (3, 3), (5, 2), (5, 2)], [(0, 5), (4, 2), (0, 5), (4, 2)]]\n",
      "5 4 3 2 0 1 \n"
     ]
    }
   ],
   "source": [
    "from queue import PriorityQueue\n",
    "v = 6\n",
    "graph = [[] for i in range(v)]\n",
    "\n",
    "\n",
    "def addedge(x, y, cost):\n",
    "    graph[x].append((y, cost))\n",
    "    graph[y].append((x, cost))\n",
    "\n",
    "\n",
    "def best_first_search(actual_Src, target, n):\n",
    "    visited = [False] * n\n",
    "    pq = PriorityQueue()\n",
    "    pq.put((0, actual_Src))\n",
    "    visited[actual_Src] = True\n",
    "\n",
    "    while pq.empty() == False:\n",
    "        u = pq.get()[1]\n",
    "        # Displaying the path having lowest cost\n",
    "        print(u, end=\" \")\n",
    "        if u == target:\n",
    "            break\n",
    "\n",
    "        for v, c in graph[u]:\n",
    "            if visited[v] == False:\n",
    "                visited[v] = True\n",
    "                pq.put((c, v))\n",
    "    print()\n",
    "\n",
    "# def get_answer(src, dst, vertices):\n",
    "\n",
    "\n",
    "addedge(0, 1, 3)\n",
    "addedge(0, 2, 2)\n",
    "addedge(0, 5, 5)\n",
    "addedge(1, 0, 3)\n",
    "addedge(1, 2, 1)\n",
    "addedge(1, 3, 6)\n",
    "addedge(2, 0, 2)\n",
    "addedge(2, 1, 1)\n",
    "addedge(2, 3, 3)\n",
    "addedge(2, 4, 4)\n",
    "addedge(3, 1, 6)\n",
    "addedge(3, 2, 3)\n",
    "addedge(3, 4, 3)\n",
    "addedge(4, 2, 4)\n",
    "addedge(4, 3, 3)\n",
    "addedge(4, 5, 2)\n",
    "addedge(5, 0, 5)\n",
    "addedge(5, 4, 2)\n",
    "source = 5\n",
    "target = 1\n",
    "\n",
    "print(graph)\n",
    "\n",
    "best_first_search(source, target, v)\n"
   ]
  },
  {
   "cell_type": "code",
   "execution_count": 58,
   "metadata": {},
   "outputs": [
    {
     "name": "stdout",
     "output_type": "stream",
     "text": [
      "F A E B C D "
     ]
    }
   ],
   "source": [
    "graph = {\n",
    "    'A': ['B', 'C','F'],\n",
    "    'B': ['A','C', 'D'],\n",
    "    'C': ['A','B','D', 'E'],\n",
    "    'D': ['B','C','E'],\n",
    "    'E': ['C','D','F'],\n",
    "    'F': ['A','E']\n",
    "}\n",
    "\n",
    "# graph = {\n",
    "#     'A': {'B': 3, 'C': 2, 'F': 5},\n",
    "#     'B': {'A': 3, 'C': 1, 'D': 6},\n",
    "#     'C': {'A': 2, 'B': 1, 'D': 3, 'E': 4},\n",
    "#     'D': {'B': 6, 'C': 4, 'E': 3},\n",
    "#     'E': {'C': 3, 'D': 3, 'F': 2},\n",
    "#     'F': {'A': 5, 'E': 2},\n",
    "# }\n",
    "\n",
    "visited = []  # List to keep track of visited nodes.\n",
    "queue = []  # Initialize a queue\n",
    "\n",
    "\n",
    "def bfs(visited, graph, node):\n",
    "    visited.append(node)\n",
    "    queue.append(node)\n",
    "\n",
    "    while queue:\n",
    "        s = queue.pop(0)\n",
    "        print(s, end=\" \")\n",
    "\n",
    "        for neighbour in graph[s]:\n",
    "            if neighbour not in visited:\n",
    "                visited.append(neighbour)\n",
    "                queue.append(neighbour)\n",
    "\n",
    "\n",
    "# Driver Code\n",
    "bfs(visited, graph, 'F')\n"
   ]
  },
  {
   "cell_type": "code",
   "execution_count": null,
   "metadata": {},
   "outputs": [],
   "source": [
    "\n"
   ]
  }
 ],
 "metadata": {
  "kernelspec": {
   "display_name": "Python 3",
   "language": "python",
   "name": "python3"
  },
  "language_info": {
   "codemirror_mode": {
    "name": "ipython",
    "version": 3
   },
   "file_extension": ".py",
   "mimetype": "text/x-python",
   "name": "python",
   "nbconvert_exporter": "python",
   "pygments_lexer": "ipython3",
   "version": "3.11.2"
  },
  "orig_nbformat": 4
 },
 "nbformat": 4,
 "nbformat_minor": 2
}
