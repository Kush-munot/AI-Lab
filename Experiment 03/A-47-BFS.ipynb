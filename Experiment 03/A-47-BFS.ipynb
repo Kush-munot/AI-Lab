{
 "cells": [
  {
   "attachments": {},
   "cell_type": "markdown",
   "metadata": {},
   "source": [
    "# BFS in the India Map [A3-A4]"
   ]
  },
  {
   "cell_type": "code",
   "execution_count": 11,
   "metadata": {},
   "outputs": [
    {
     "name": "stdout",
     "output_type": "stream",
     "text": [
      "F A B "
     ]
    }
   ],
   "source": [
    "graph = {\n",
    "    'A': ['B', 'C','F'],\n",
    "    'B': ['A','C', 'D'],\n",
    "    'C': ['A','B','D', 'E'],\n",
    "    'D': ['B','C','E'],\n",
    "    'E': ['C','D','F'],\n",
    "    'F': ['A','E']\n",
    "}\n",
    "\n",
    "# graph = {\n",
    "#     'A': {'B': 3, 'C': 2, 'F': 5},\n",
    "#     'B': {'A': 3, 'C': 1, 'D': 6},\n",
    "#     'C': {'A': 2, 'B': 1, 'D': 3, 'E': 4},\n",
    "#     'D': {'B': 6, 'C': 4, 'E': 3},\n",
    "#     'E': {'C': 3, 'D': 3, 'F': 2},\n",
    "#     'F': {'A': 5, 'E': 2},\n",
    "# }\n",
    "\n",
    "visited = []  \n",
    "queue = []  \n",
    "\n",
    "\n",
    "def bfs(visited, graph, node, goal):\n",
    "    visited.append(node)\n",
    "    queue.append(node)\n",
    "\n",
    "    while queue:\n",
    "        s = queue.pop(0)\n",
    "        print(s, end=\" \")\n",
    "\n",
    "        for neighbour in graph[s]:\n",
    "            # print(neighbour, graph[s])\n",
    "            if neighbour not in visited:\n",
    "                visited.append(neighbour)\n",
    "                queue.append(neighbour)\n",
    "            if neighbour == goal:\n",
    "                print(neighbour, end=\" \")\n",
    "                return;\n",
    "\n",
    "\n",
    "inp_src = input(\"Source Point: \")\n",
    "inp_dst = input(\"Destination Point: \")\n",
    "bfs(visited, graph, inp_src, inp_dst)\n"
   ]
  },
  {
   "cell_type": "code",
   "execution_count": 12,
   "metadata": {},
   "outputs": [
    {
     "name": "stdout",
     "output_type": "stream",
     "text": [
      "neighbours = {'D', 'G'}\n",
      "new temp = ['F']\n",
      "queue = [['F', 'D']]\n",
      "\n",
      "new temp = ['F']\n",
      "queue = [['F', 'D'], ['F', 'G']]\n",
      "\n",
      "neighbours = {'F', 'H', 'E', 'C'}\n",
      "new temp = ['F', 'D']\n",
      "queue = [['F', 'G'], ['F', 'D', 'H']]\n",
      "\n",
      "new temp = ['F', 'D']\n",
      "queue = [['F', 'G'], ['F', 'D', 'H'], ['F', 'D', 'E']]\n",
      "\n",
      "new temp = ['F', 'D']\n",
      "queue = [['F', 'G'], ['F', 'D', 'H'], ['F', 'D', 'E'], ['F', 'D', 'C']]\n",
      "\n",
      "neighbours = {'F', 'H'}\n",
      "new temp = ['F', 'G']\n",
      "queue = [['F', 'D', 'H'], ['F', 'D', 'E'], ['F', 'D', 'C'], ['F', 'G', 'H']]\n",
      "\n",
      "neighbours = {'L', 'D', 'C', 'G'}\n",
      "new temp = ['F', 'D', 'H']\n",
      "queue = [['F', 'D', 'E'], ['F', 'D', 'C'], ['F', 'G', 'H'], ['F', 'D', 'H', 'L']]\n",
      "\n",
      "new temp = ['F', 'D', 'H']\n",
      "queue = [['F', 'D', 'E'], ['F', 'D', 'C'], ['F', 'G', 'H'], ['F', 'D', 'H', 'L'], ['F', 'D', 'H', 'C']]\n",
      "\n",
      "neighbours = {'D'}\n",
      "neighbours = {'B', 'I', 'H', 'D'}\n",
      "new temp = ['F', 'D', 'C']\n",
      "queue = [['F', 'G', 'H'], ['F', 'D', 'H', 'L'], ['F', 'D', 'H', 'C'], ['F', 'D', 'C', 'B']]\n",
      "\n",
      "['F', 'D', 'C', 'B']\n"
     ]
    }
   ],
   "source": [
    "# ind_map = {\n",
    "#     'A': ['B', 'C','F'],\n",
    "#     'B': ['A','C', 'D'],\n",
    "#     'C': ['A','B','D', 'E'],\n",
    "#     'D': ['B','C','E'],\n",
    "#     'E': ['C','D','F'],\n",
    "#     'F': ['A','E']\n",
    "# }\n",
    "\n",
    "ind_map = {'A':set(['B']),\n",
    "        'B':set(['C','A']),\n",
    "        'C':set(['H','B','I','D']),\n",
    "        'D':set(['C','E','H','F']),\n",
    "        'E':set(['D']),\n",
    "        'F':set(['D','G']),\n",
    "        'G':set(['F','H']),\n",
    "        'H':set(['L','C','G','D']),\n",
    "        'I':set(['C','J','K']),\n",
    "        'J':set(['I']),\n",
    "        'K':set(['L','I']),\n",
    "        'L':set(['K','H'])}\n",
    "\n",
    "\n",
    "def bfs_shortest_path(graph, src, goal):\n",
    "    explored = []    \n",
    "    queue = [[src]]    \n",
    "    if src == goal:\n",
    "        return \"You are already at the Destination point\"    \n",
    "    while queue:        \n",
    "        temp = queue.pop(0)        \n",
    "        node = temp[-1]        \n",
    "        if node not in explored:\n",
    "            neighbours = graph[node]     \n",
    "            print(\"neighbours = {}\".format(neighbours))        \n",
    "            for neighbour in neighbours:\n",
    "                if neighbour not in explored:\n",
    "                    new_temp = list(temp)  \n",
    "                    print(\"new temp = {}\".format(new_temp))\n",
    "                    new_temp.append(neighbour)  \n",
    "                    queue.append(new_temp)                  \n",
    "                    print(\"queue = {}\\n\".format(queue))\n",
    "                    if neighbour == goal:\n",
    "                        return new_temp \n",
    "\n",
    "            explored.append(node)     \n",
    "    return \"Sorry, the node you selected does not exist\"\n",
    "\n",
    "inp_src = input(\"Source Point: \")\n",
    "inp_dst = input(\"Destination Point: \")\n",
    "\n",
    "print(bfs_shortest_path(ind_map, inp_src, inp_dst)) "
   ]
  },
  {
   "cell_type": "code",
   "execution_count": null,
   "metadata": {},
   "outputs": [],
   "source": [
    "\n"
   ]
  }
 ],
 "metadata": {
  "kernelspec": {
   "display_name": "Python 3",
   "language": "python",
   "name": "python3"
  },
  "language_info": {
   "codemirror_mode": {
    "name": "ipython",
    "version": 3
   },
   "file_extension": ".py",
   "mimetype": "text/x-python",
   "name": "python",
   "nbconvert_exporter": "python",
   "pygments_lexer": "ipython3",
   "version": "3.11.2"
  },
  "orig_nbformat": 4
 },
 "nbformat": 4,
 "nbformat_minor": 2
}
