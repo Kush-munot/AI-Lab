{
 "cells": [
  {
   "attachments": {},
   "cell_type": "markdown",
   "metadata": {},
   "source": [
    "## Naive Bayes Theoram\n"
   ]
  },
  {
   "cell_type": "code",
   "execution_count": 2,
   "metadata": {},
   "outputs": [
    {
     "name": "stdout",
     "output_type": "stream",
     "text": [
      "The Prediction for yes class is 0.028218694885361547 and for no class is 0.006857142857142858\n"
     ]
    }
   ],
   "source": [
    "age_yng_y, age_yng_n= 2,3\n",
    "tot_y, tot_n = 9,5\n",
    "med_yes, med_no = 4,2\n",
    "stud_y, stud_n = 6,1\n",
    "cr_f_y, cr_f_n = 6,2\n",
    "\n",
    "pred_yes = (age_yng_y/tot_y)*(med_yes/tot_y)*(stud_y/tot_y)*(cr_f_y/tot_y)*(tot_y/(tot_y+tot_n))\n",
    "pred_no = (age_yng_n/tot_n)*(med_no/tot_n)*(stud_n/tot_n)*(cr_f_n/tot_n)*(tot_n/(tot_y+tot_n))\n",
    "\n",
    "print(\"The Prediction for yes class is {} and for no class is {}\".format(pred_yes, pred_no))"
   ]
  },
  {
   "cell_type": "code",
   "execution_count": null,
   "metadata": {},
   "outputs": [],
   "source": []
  }
 ],
 "metadata": {
  "kernelspec": {
   "display_name": "Python 3",
   "language": "python",
   "name": "python3"
  },
  "language_info": {
   "codemirror_mode": {
    "name": "ipython",
    "version": 3
   },
   "file_extension": ".py",
   "mimetype": "text/x-python",
   "name": "python",
   "nbconvert_exporter": "python",
   "pygments_lexer": "ipython3",
   "version": "3.11.3"
  },
  "orig_nbformat": 4
 },
 "nbformat": 4,
 "nbformat_minor": 2
}
