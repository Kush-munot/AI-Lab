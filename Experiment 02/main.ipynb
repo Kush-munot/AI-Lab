{
 "cells": [
  {
   "cell_type": "markdown",
   "metadata": {},
   "source": [
    "## 3 L and 4 L Jug Problems"
   ]
  },
  {
   "cell_type": "code",
   "execution_count": 1,
   "metadata": {},
   "outputs": [
    {
     "name": "stdout",
     "output_type": "stream",
     "text": [
      "[0, 0]\n",
      "Filling Water\n",
      "[7, 0]\n",
      "Transferring Water\n",
      "[2, 5]\n",
      "Emptying Water\n",
      "[2, 0]\n",
      "Transferring Water\n",
      "[0, 2]\n",
      "Filling Water\n",
      "[7, 2]\n",
      "Transferring Water\n",
      "[4, 5]\n",
      "Emptying Water\n",
      "[4, 0]\n",
      "Transferring Water\n",
      "[0, 4]\n",
      "Filling Water\n",
      "[7, 4]\n",
      "Transferring Water\n",
      "[6, 5]\n",
      "Emptying Water\n",
      "[6, 0]\n",
      "Transferring Water\n",
      "[1, 5]\n",
      "Emptying Water\n",
      "[1, 0]\n",
      "Transferring Water\n",
      "[0, 1]\n",
      "Filling Water\n",
      "[7, 1]\n",
      "Transferring Water\n",
      "[3, 5] Solution Found\n"
     ]
    }
   ],
   "source": [
    "cap_a = int(input())\n",
    "cap_b = int(input())\n",
    "target = int(input())\n",
    "first, second = 0, 0\n",
    "states = [first, second]\n",
    "if(cap_a < target or cap_b < target):\n",
    "        print(\"solution not possible\")\n",
    "else:\n",
    "    for i in range(1):\n",
    "        while first != target and second != target:\n",
    "            states = [first, second]\n",
    "            print (states)\n",
    "            if second < cap_b:\n",
    "                if first != 0:\n",
    "                    if second+first <= cap_b:\n",
    "                        second += first\n",
    "                        first = 0\n",
    "                        print(\"Transferring Water\")\n",
    "                    else:\n",
    "                        n = first+second-cap_b\n",
    "                        second = cap_b\n",
    "                        first = n\n",
    "                        print(\"Transferring Water\")\n",
    "                else:\n",
    "                    first = cap_a\n",
    "                    print(\"Filling Water\")\n",
    "            else:\n",
    "                second = 0\n",
    "                print(\"Emptying Water\")\n",
    "            \n",
    "        print([first, second], \"Solution Found\")\n"
   ]
  },
  {
   "cell_type": "code",
   "execution_count": null,
   "metadata": {},
   "outputs": [],
   "source": [
    "def transfer():\n",
    "    if second+first <= cap_b:\n",
    "        second += first\n",
    "        first = 0\n",
    "        print(\"Transferring Water\")\n",
    "    else:\n",
    "        n = first+second-cap_b\n",
    "        second = cap_b\n",
    "        first = n\n",
    "        print(\"Transferring Water\")\n",
    "\n",
    "\n",
    "def fill():\n",
    "    first = cap_a\n",
    "    print(\"Filling Water\")\n",
    "\n",
    "\n",
    "def empty():\n",
    "    second = 0\n",
    "    print(\"Emptying Water\")\n",
    "\n",
    "\n",
    "cap_a = int(input())\n",
    "cap_b = int(input())\n",
    "target = int(input())\n",
    "first, second = 0, 0\n",
    "states = [first, second]\n",
    "if (cap_a < target or cap_b < target):\n",
    "    print(\"solution not possible\")\n",
    "else:\n",
    "    for i in range(1):\n",
    "        while first != target and second != target:\n",
    "            states = [first, second]\n",
    "            print(states)\n",
    "            if first != 0:\n",
    "                if second < cap_b:\n",
    "                    transfer()\n",
    "                else:\n",
    "                    fill()\n",
    "            else:\n",
    "                empty()\n",
    "\n",
    "        print([first, second], \"Solution Found\")\n"
   ]
  }
 ],
 "metadata": {
  "kernelspec": {
   "display_name": "Python 3",
   "language": "python",
   "name": "python3"
  },
  "language_info": {
   "codemirror_mode": {
    "name": "ipython",
    "version": 3
   },
   "file_extension": ".py",
   "mimetype": "text/x-python",
   "name": "python",
   "nbconvert_exporter": "python",
   "pygments_lexer": "ipython3",
   "version": "3.10.8"
  },
  "orig_nbformat": 4,
  "vscode": {
   "interpreter": {
    "hash": "2f426784fb6d7c4552ad99e551e7e1308dfd09add5e658d1a84ddf9d1ddbca18"
   }
  }
 },
 "nbformat": 4,
 "nbformat_minor": 2
}
