{
 "cells": [
  {
   "attachments": {},
   "cell_type": "markdown",
   "metadata": {},
   "source": [
    "## K-Nearest Neighbour Algorithm"
   ]
  },
  {
   "cell_type": "code",
   "execution_count": 52,
   "metadata": {},
   "outputs": [
    {
     "name": "stdout",
     "output_type": "stream",
     "text": [
      "[(1.0964578861877996, 7.478707477393911, '1'), (0.6842392067787557, 7.9715348744672525, '1'), (6.50896061941738, 2.193844921367237, '1'), (1.0495966156223844, 6.672031520077645, '1'), (2.7410326254347583, 3.661888009895762, '1'), (1.1135907607592088, 7.1573101877041125, '1'), (7.658376008424728, 5.437269873806427, '-1'), (3.290806039430226, 0.5408807166370408, '1'), (7.81609818390919, 0.4168711134208025, '1'), (7.516598827352723, 3.442781644736854, '1'), (5.67776543599669, 3.7403628978337267, '1'), (1.7704007534253847, 9.441965520002611, '1'), (2.3030877330416004, 3.223533739171309, '1'), (1.4937916019478337, 0.5033357384392119, '1'), (8.200344222360243, 5.562658055161691, '-1'), (6.858048846090341, 6.9807866677732235, '-1'), (2.584439641189194, 9.693706704641613, '1'), (7.09798738412298, 9.155115178929563, '-1'), (0.4306359957437138, 8.73343613345616, '1'), (9.199383242737419, 8.530204679155958, '-1')]\n",
      "1 -1\n",
      "2 -1\n",
      "3 -1\n",
      "4 -1\n",
      "5 -1\n"
     ]
    }
   ],
   "source": [
    "import random\n",
    "import math\n",
    "\n",
    "points = []\n",
    "limit = 5\n",
    "\n",
    "for i in range(20):\n",
    "    num1 = (random.random()*100) % 10\n",
    "    num2 = (random.random()*100) % 10\n",
    "\n",
    "    if(num1 < limit or num2 < limit):\n",
    "        points.append((num1, num2, \"1\"))\n",
    "    else:\n",
    "        points.append((num1, num2, \"-1\"))\n",
    "print(points)\n",
    "\n",
    "def knn_algorithm(points, input, k):\n",
    "    closest = []\n",
    "    for i in points:\n",
    "        x = (i[0]-input[0])**2\n",
    "        y = (i[1]-input[1])**2\n",
    "\n",
    "        dist = math.sqrt(x+y)\n",
    "        closest.append((dist, i[2]))\n",
    "    closest.sort()\n",
    "    pos = 0\n",
    "    neg = 0\n",
    "\n",
    "    for i in range(k):\n",
    "        val = closest[i][1]\n",
    "        if(val == \"1\"):\n",
    "            pos = pos + 1\n",
    "        else:\n",
    "            neg = neg + 1\n",
    "\n",
    "    if(pos >= neg):\n",
    "        return \"1\"\n",
    "    else:\n",
    "        return \"-1\"\n",
    "\n",
    "\n",
    "\n",
    "input = (6,6)\n",
    "\n",
    "for i in range(1, 6):\n",
    "    ans = knn_algorithm(points, input, 5)\n",
    "    print(i, ans)\n"
   ]
  },
  {
   "cell_type": "code",
   "execution_count": 2,
   "metadata": {},
   "outputs": [
    {
     "name": "stdout",
     "output_type": "stream",
     "text": [
      "[(15, 48), (33, 29), (2, 38), (13, 32), (1, 35), (35, 26), (25, 37), (24, 42), (28, 33), (26, 13), (29, 4), (45, 24), (15, 7), (48, 7), (46, 13), (19, 49), (47, 11), (0, 27), (19, 31), (12, 28)]\n",
      "[-1, -1, -1, -1, -1, -1, -1, -1, -1, 1, -1, -1, 1, -1, -1, -1, -1, -1, -1, -1]\n"
     ]
    },
    {
     "data": {
      "image/png": "[encoded data removed]",
      "text/plain": [
       "<Figure size 640x480 with 1 Axes>"
      ]
     },
     "metadata": {},
     "output_type": "display_data"
    },
    {
     "name": "stdout",
     "output_type": "stream",
     "text": [
      "For K = 1 KNN value =>  1\n",
      "For K = 2 KNN value =>  1\n",
      "For K = 3 KNN value =>  1\n",
      "For K = 4 KNN value =>  -1\n",
      "For K = 5 KNN value =>  -1\n"
     ]
    }
   ],
   "source": [
    "import random\n",
    "import math\n",
    "import matplotlib.pyplot as plt\n",
    "\n",
    "\n",
    "def eucledian_dist(p1, p2):\n",
    "    return math.sqrt((p1[0] - p2[0])**2 + (p1[1] - p2[1])**2)\n",
    "\n",
    "\n",
    "def knn(pt, k):\n",
    "    distance = []\n",
    "    for i in range(20):\n",
    "        dist = eucledian_dist(pt, x[i])\n",
    "        distance.append((dist, arr[i]))\n",
    "    distance.sort()\n",
    "    neighbors = []\n",
    "    for i in range(k):\n",
    "        neighbors.append(distance[i][1])\n",
    "    positive = neighbors.count(1)\n",
    "    negative = neighbors.count(-1)\n",
    "    if positive > negative:\n",
    "        return 1\n",
    "    else:\n",
    "        return -1\n",
    "\n",
    "\n",
    "x = [(random.randint(0, 50), random.randint(0, 50)) for k in range(20)]\n",
    "print(x)\n",
    "arr = []\n",
    "for i in range(20):\n",
    "    if x[i][0] > 26 or x[i][1] > 26:\n",
    "        plt.scatter(x[i][0], x[i][1], color='green')\n",
    "        arr.append(-1)\n",
    "\n",
    "    else:\n",
    "        plt.scatter(x[i][0], x[i][1], color='red')\n",
    "        arr.append(1)\n",
    "\n",
    "print(arr)\n",
    "ux = int(input(\"Enter x coordinate: \"))\n",
    "uy = int(input(\"Enter y coordinate: \"))\n",
    "point = (ux, uy)\n",
    "plt.scatter(ux, uy, color='blue')\n",
    "plt.show()\n",
    "for i in range(1, 6):\n",
    "    print(\"For K = \", end=\"\")\n",
    "    print(i, end=\" \")\n",
    "    print(\"KNN value => \", end=\" \")\n",
    "    print(knn(point, i))\n"
   ]
  },
  {
   "cell_type": "code",
   "execution_count": null,
   "metadata": {},
   "outputs": [],
   "source": []
  }
 ],
 "metadata": {
  "kernelspec": {
   "display_name": "Python 3",
   "language": "python",
   "name": "python3"
  },
  "language_info": {
   "codemirror_mode": {
    "name": "ipython",
    "version": 3
   },
   "file_extension": ".py",
   "mimetype": "text/x-python",
   "name": "python",
   "nbconvert_exporter": "python",
   "pygments_lexer": "ipython3",
   "version": "3.11.3"
  },
  "orig_nbformat": 4
 },
 "nbformat": 4,
 "nbformat_minor": 2
}
